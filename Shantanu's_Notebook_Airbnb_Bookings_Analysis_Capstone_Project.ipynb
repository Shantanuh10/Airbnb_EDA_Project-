{
  "nbformat": 4,
  "nbformat_minor": 0,
  "metadata": {
    "colab": {
      "name": "Shantanu's Notebook -Airbnb Bookings Analysis - Capstone Project.ipynb",
      "provenance": [],
      "collapsed_sections": [],
      "mount_file_id": "1cv0BDgMTk17RlrIC_EPsFMmnP2J34ncp",
      "authorship_tag": "ABX9TyNQuIhlh6g9kcQ9OEKukVr3",
      "include_colab_link": true
    },
    "kernelspec": {
      "name": "python3",
      "display_name": "Python 3"
    },
    "language_info": {
      "name": "python"
    }
  },
  "cells": [
    {
      "cell_type": "markdown",
      "metadata": {
        "id": "view-in-github",
        "colab_type": "text"
      },
      "source": [
        "<a href=\"https://colab.research.google.com/github/Shantanuh10/Airbnb_EDA_Project-/blob/main/Shantanu's_Notebook_Airbnb_Bookings_Analysis_Capstone_Project.ipynb\" target=\"_parent\"><img src=\"https://colab.research.google.com/assets/colab-badge.svg\" alt=\"Open In Colab\"/></a>"
      ]
    },
    {
      "cell_type": "code",
      "metadata": {
        "id": "2iMVmTHDJFg0"
      },
      "source": [
        "#Importing Library\n",
        "import numpy as np\n",
        "import pandas as pd\n",
        "import matplotlib.pyplot as plt\n",
        "%matplotlib inline\n",
        "import seaborn as sns"
      ],
      "execution_count": 1,
      "outputs": []
    },
    {
      "cell_type": "code",
      "metadata": {
        "colab": {
          "base_uri": "https://localhost:8080/"
        },
        "id": "seU4zi6HJ0Lj",
        "outputId": "fedf5011-bbc1-442a-c325-0c44dfd6a7af"
      },
      "source": [
        "# Mount Drive\n",
        "from google.colab import drive\n",
        "drive.mount('/content/drive')"
      ],
      "execution_count": 2,
      "outputs": [
        {
          "output_type": "stream",
          "name": "stdout",
          "text": [
            "Drive already mounted at /content/drive; to attempt to forcibly remount, call drive.mount(\"/content/drive\", force_remount=True).\n"
          ]
        }
      ]
    },
    {
      "cell_type": "code",
      "metadata": {
        "id": "m4_uMiR5K43i"
      },
      "source": [
        "# Importing data by reading csv file\n",
        "file_path = '/content/drive/MyDrive/Capstone Project (AlmaBetter)/Airbnb EDA Project/Copy of Airbnb NYC 2019.csv'\n",
        "airbnb_df=pd.read_csv(file_path)"
      ],
      "execution_count": 3,
      "outputs": []
    },
    {
      "cell_type": "code",
      "metadata": {
        "colab": {
          "base_uri": "https://localhost:8080/"
        },
        "id": "LhhfYo7ETlq_",
        "outputId": "e2d8747c-ca9d-46c0-c320-49fd6ac463d7"
      },
      "source": [
        "airbnb_df.info()"
      ],
      "execution_count": 4,
      "outputs": [
        {
          "output_type": "stream",
          "name": "stdout",
          "text": [
            "<class 'pandas.core.frame.DataFrame'>\n",
            "RangeIndex: 48895 entries, 0 to 48894\n",
            "Data columns (total 16 columns):\n",
            " #   Column                          Non-Null Count  Dtype  \n",
            "---  ------                          --------------  -----  \n",
            " 0   id                              48895 non-null  int64  \n",
            " 1   name                            48879 non-null  object \n",
            " 2   host_id                         48895 non-null  int64  \n",
            " 3   host_name                       48874 non-null  object \n",
            " 4   neighbourhood_group             48895 non-null  object \n",
            " 5   neighbourhood                   48895 non-null  object \n",
            " 6   latitude                        48895 non-null  float64\n",
            " 7   longitude                       48895 non-null  float64\n",
            " 8   room_type                       48895 non-null  object \n",
            " 9   price                           48895 non-null  int64  \n",
            " 10  minimum_nights                  48895 non-null  int64  \n",
            " 11  number_of_reviews               48895 non-null  int64  \n",
            " 12  last_review                     38843 non-null  object \n",
            " 13  reviews_per_month               38843 non-null  float64\n",
            " 14  calculated_host_listings_count  48895 non-null  int64  \n",
            " 15  availability_365                48895 non-null  int64  \n",
            "dtypes: float64(3), int64(7), object(6)\n",
            "memory usage: 6.0+ MB\n"
          ]
        }
      ]
    },
    {
      "cell_type": "code",
      "metadata": {
        "colab": {
          "base_uri": "https://localhost:8080/"
        },
        "id": "ZPf_u3KfTs78",
        "outputId": "243e8492-4ca1-41f3-b176-2cf46779c217"
      },
      "source": [
        "airbnb_df.shape"
      ],
      "execution_count": 5,
      "outputs": [
        {
          "output_type": "execute_result",
          "data": {
            "text/plain": [
              "(48895, 16)"
            ]
          },
          "metadata": {},
          "execution_count": 5
        }
      ]
    },
    {
      "cell_type": "code",
      "metadata": {
        "colab": {
          "base_uri": "https://localhost:8080/"
        },
        "id": "vclDCRf6XcR0",
        "outputId": "bb0a031a-f583-4ff9-8f95-6135a1bc4ff5"
      },
      "source": [
        "airbnb_df.columns"
      ],
      "execution_count": 6,
      "outputs": [
        {
          "output_type": "execute_result",
          "data": {
            "text/plain": [
              "Index(['id', 'name', 'host_id', 'host_name', 'neighbourhood_group',\n",
              "       'neighbourhood', 'latitude', 'longitude', 'room_type', 'price',\n",
              "       'minimum_nights', 'number_of_reviews', 'last_review',\n",
              "       'reviews_per_month', 'calculated_host_listings_count',\n",
              "       'availability_365'],\n",
              "      dtype='object')"
            ]
          },
          "metadata": {},
          "execution_count": 6
        }
      ]
    },
    {
      "cell_type": "code",
      "metadata": {
        "colab": {
          "base_uri": "https://localhost:8080/"
        },
        "id": "eparWCSfYiOs",
        "outputId": "e27fbfbc-2dc3-44af-ad68-dfb919944b53"
      },
      "source": [
        "airbnb_df.info()"
      ],
      "execution_count": 7,
      "outputs": [
        {
          "output_type": "stream",
          "name": "stdout",
          "text": [
            "<class 'pandas.core.frame.DataFrame'>\n",
            "RangeIndex: 48895 entries, 0 to 48894\n",
            "Data columns (total 16 columns):\n",
            " #   Column                          Non-Null Count  Dtype  \n",
            "---  ------                          --------------  -----  \n",
            " 0   id                              48895 non-null  int64  \n",
            " 1   name                            48879 non-null  object \n",
            " 2   host_id                         48895 non-null  int64  \n",
            " 3   host_name                       48874 non-null  object \n",
            " 4   neighbourhood_group             48895 non-null  object \n",
            " 5   neighbourhood                   48895 non-null  object \n",
            " 6   latitude                        48895 non-null  float64\n",
            " 7   longitude                       48895 non-null  float64\n",
            " 8   room_type                       48895 non-null  object \n",
            " 9   price                           48895 non-null  int64  \n",
            " 10  minimum_nights                  48895 non-null  int64  \n",
            " 11  number_of_reviews               48895 non-null  int64  \n",
            " 12  last_review                     38843 non-null  object \n",
            " 13  reviews_per_month               38843 non-null  float64\n",
            " 14  calculated_host_listings_count  48895 non-null  int64  \n",
            " 15  availability_365                48895 non-null  int64  \n",
            "dtypes: float64(3), int64(7), object(6)\n",
            "memory usage: 6.0+ MB\n"
          ]
        }
      ]
    },
    {
      "cell_type": "code",
      "metadata": {
        "id": "7jqGRE3lYlbF"
      },
      "source": [
        "# Drop null observations\n",
        "airbnb_non_null_df = airbnb_df.dropna()"
      ],
      "execution_count": 8,
      "outputs": []
    },
    {
      "cell_type": "code",
      "metadata": {
        "colab": {
          "base_uri": "https://localhost:8080/"
        },
        "id": "9sEdjOWpZcdt",
        "outputId": "6bc1dbbc-4950-49aa-8c06-bd55eb5a019e"
      },
      "source": [
        "airbnb_non_null_df.info()"
      ],
      "execution_count": 9,
      "outputs": [
        {
          "output_type": "stream",
          "name": "stdout",
          "text": [
            "<class 'pandas.core.frame.DataFrame'>\n",
            "Int64Index: 38821 entries, 0 to 48852\n",
            "Data columns (total 16 columns):\n",
            " #   Column                          Non-Null Count  Dtype  \n",
            "---  ------                          --------------  -----  \n",
            " 0   id                              38821 non-null  int64  \n",
            " 1   name                            38821 non-null  object \n",
            " 2   host_id                         38821 non-null  int64  \n",
            " 3   host_name                       38821 non-null  object \n",
            " 4   neighbourhood_group             38821 non-null  object \n",
            " 5   neighbourhood                   38821 non-null  object \n",
            " 6   latitude                        38821 non-null  float64\n",
            " 7   longitude                       38821 non-null  float64\n",
            " 8   room_type                       38821 non-null  object \n",
            " 9   price                           38821 non-null  int64  \n",
            " 10  minimum_nights                  38821 non-null  int64  \n",
            " 11  number_of_reviews               38821 non-null  int64  \n",
            " 12  last_review                     38821 non-null  object \n",
            " 13  reviews_per_month               38821 non-null  float64\n",
            " 14  calculated_host_listings_count  38821 non-null  int64  \n",
            " 15  availability_365                38821 non-null  int64  \n",
            "dtypes: float64(3), int64(7), object(6)\n",
            "memory usage: 5.0+ MB\n"
          ]
        }
      ]
    },
    {
      "cell_type": "code",
      "metadata": {
        "colab": {
          "base_uri": "https://localhost:8080/",
          "height": 479
        },
        "id": "eq3JaKSxZftY",
        "outputId": "9276f319-9959-48fd-b8b8-5882e3b98ecf"
      },
      "source": [
        "airbnb_non_null_df.head()"
      ],
      "execution_count": 10,
      "outputs": [
        {
          "output_type": "execute_result",
          "data": {
            "text/html": [
              "<div>\n",
              "<style scoped>\n",
              "    .dataframe tbody tr th:only-of-type {\n",
              "        vertical-align: middle;\n",
              "    }\n",
              "\n",
              "    .dataframe tbody tr th {\n",
              "        vertical-align: top;\n",
              "    }\n",
              "\n",
              "    .dataframe thead th {\n",
              "        text-align: right;\n",
              "    }\n",
              "</style>\n",
              "<table border=\"1\" class=\"dataframe\">\n",
              "  <thead>\n",
              "    <tr style=\"text-align: right;\">\n",
              "      <th></th>\n",
              "      <th>id</th>\n",
              "      <th>name</th>\n",
              "      <th>host_id</th>\n",
              "      <th>host_name</th>\n",
              "      <th>neighbourhood_group</th>\n",
              "      <th>neighbourhood</th>\n",
              "      <th>latitude</th>\n",
              "      <th>longitude</th>\n",
              "      <th>room_type</th>\n",
              "      <th>price</th>\n",
              "      <th>minimum_nights</th>\n",
              "      <th>number_of_reviews</th>\n",
              "      <th>last_review</th>\n",
              "      <th>reviews_per_month</th>\n",
              "      <th>calculated_host_listings_count</th>\n",
              "      <th>availability_365</th>\n",
              "    </tr>\n",
              "  </thead>\n",
              "  <tbody>\n",
              "    <tr>\n",
              "      <th>0</th>\n",
              "      <td>2539</td>\n",
              "      <td>Clean &amp; quiet apt home by the park</td>\n",
              "      <td>2787</td>\n",
              "      <td>John</td>\n",
              "      <td>Brooklyn</td>\n",
              "      <td>Kensington</td>\n",
              "      <td>40.64749</td>\n",
              "      <td>-73.97237</td>\n",
              "      <td>Private room</td>\n",
              "      <td>149</td>\n",
              "      <td>1</td>\n",
              "      <td>9</td>\n",
              "      <td>2018-10-19</td>\n",
              "      <td>0.21</td>\n",
              "      <td>6</td>\n",
              "      <td>365</td>\n",
              "    </tr>\n",
              "    <tr>\n",
              "      <th>1</th>\n",
              "      <td>2595</td>\n",
              "      <td>Skylit Midtown Castle</td>\n",
              "      <td>2845</td>\n",
              "      <td>Jennifer</td>\n",
              "      <td>Manhattan</td>\n",
              "      <td>Midtown</td>\n",
              "      <td>40.75362</td>\n",
              "      <td>-73.98377</td>\n",
              "      <td>Entire home/apt</td>\n",
              "      <td>225</td>\n",
              "      <td>1</td>\n",
              "      <td>45</td>\n",
              "      <td>2019-05-21</td>\n",
              "      <td>0.38</td>\n",
              "      <td>2</td>\n",
              "      <td>355</td>\n",
              "    </tr>\n",
              "    <tr>\n",
              "      <th>3</th>\n",
              "      <td>3831</td>\n",
              "      <td>Cozy Entire Floor of Brownstone</td>\n",
              "      <td>4869</td>\n",
              "      <td>LisaRoxanne</td>\n",
              "      <td>Brooklyn</td>\n",
              "      <td>Clinton Hill</td>\n",
              "      <td>40.68514</td>\n",
              "      <td>-73.95976</td>\n",
              "      <td>Entire home/apt</td>\n",
              "      <td>89</td>\n",
              "      <td>1</td>\n",
              "      <td>270</td>\n",
              "      <td>2019-07-05</td>\n",
              "      <td>4.64</td>\n",
              "      <td>1</td>\n",
              "      <td>194</td>\n",
              "    </tr>\n",
              "    <tr>\n",
              "      <th>4</th>\n",
              "      <td>5022</td>\n",
              "      <td>Entire Apt: Spacious Studio/Loft by central park</td>\n",
              "      <td>7192</td>\n",
              "      <td>Laura</td>\n",
              "      <td>Manhattan</td>\n",
              "      <td>East Harlem</td>\n",
              "      <td>40.79851</td>\n",
              "      <td>-73.94399</td>\n",
              "      <td>Entire home/apt</td>\n",
              "      <td>80</td>\n",
              "      <td>10</td>\n",
              "      <td>9</td>\n",
              "      <td>2018-11-19</td>\n",
              "      <td>0.10</td>\n",
              "      <td>1</td>\n",
              "      <td>0</td>\n",
              "    </tr>\n",
              "    <tr>\n",
              "      <th>5</th>\n",
              "      <td>5099</td>\n",
              "      <td>Large Cozy 1 BR Apartment In Midtown East</td>\n",
              "      <td>7322</td>\n",
              "      <td>Chris</td>\n",
              "      <td>Manhattan</td>\n",
              "      <td>Murray Hill</td>\n",
              "      <td>40.74767</td>\n",
              "      <td>-73.97500</td>\n",
              "      <td>Entire home/apt</td>\n",
              "      <td>200</td>\n",
              "      <td>3</td>\n",
              "      <td>74</td>\n",
              "      <td>2019-06-22</td>\n",
              "      <td>0.59</td>\n",
              "      <td>1</td>\n",
              "      <td>129</td>\n",
              "    </tr>\n",
              "  </tbody>\n",
              "</table>\n",
              "</div>"
            ],
            "text/plain": [
              "     id  ... availability_365\n",
              "0  2539  ...              365\n",
              "1  2595  ...              355\n",
              "3  3831  ...              194\n",
              "4  5022  ...                0\n",
              "5  5099  ...              129\n",
              "\n",
              "[5 rows x 16 columns]"
            ]
          },
          "metadata": {},
          "execution_count": 10
        }
      ]
    },
    {
      "cell_type": "markdown",
      "metadata": {
        "id": "zwk1Khix04SZ"
      },
      "source": [
        "### Finding Most Preferred Room Type"
      ]
    },
    {
      "cell_type": "code",
      "metadata": {
        "id": "TNKUKdRLo40M"
      },
      "source": [
        "# Finding unique values from column 'room_type'\n",
        "airbnb_room_type = airbnb_non_null_df.room_type.unique()"
      ],
      "execution_count": 11,
      "outputs": []
    },
    {
      "cell_type": "code",
      "metadata": {
        "colab": {
          "base_uri": "https://localhost:8080/"
        },
        "id": "vDR_QNooqE-7",
        "outputId": "17990044-9995-49ec-c352-751bf966b376"
      },
      "source": [
        "airbnb_room_type"
      ],
      "execution_count": 12,
      "outputs": [
        {
          "output_type": "execute_result",
          "data": {
            "text/plain": [
              "array(['Private room', 'Entire home/apt', 'Shared room'], dtype=object)"
            ]
          },
          "metadata": {},
          "execution_count": 12
        }
      ]
    },
    {
      "cell_type": "code",
      "metadata": {
        "id": "ClSDZA6LreFm"
      },
      "source": [
        "# Which is the most preferred room type?\n",
        "airbnb_roomtype_frequency = dict(airbnb_non_null_df.room_type.value_counts())"
      ],
      "execution_count": 13,
      "outputs": []
    },
    {
      "cell_type": "code",
      "metadata": {
        "colab": {
          "base_uri": "https://localhost:8080/"
        },
        "id": "MY9Kvc2-wHuq",
        "outputId": "03e4e271-b041-4183-ddeb-bd38243a1dd6"
      },
      "source": [
        "airbnb_roomtype_frequency"
      ],
      "execution_count": 14,
      "outputs": [
        {
          "output_type": "execute_result",
          "data": {
            "text/plain": [
              "{'Entire home/apt': 20321, 'Private room': 17654, 'Shared room': 846}"
            ]
          },
          "metadata": {},
          "execution_count": 14
        }
      ]
    },
    {
      "cell_type": "code",
      "metadata": {
        "colab": {
          "base_uri": "https://localhost:8080/",
          "height": 444
        },
        "id": "ZzlITkJO1ltz",
        "outputId": "bc6b20a7-4ea0-4d62-88c0-45ac6c761099"
      },
      "source": [
        "# Creating Dataset \n",
        "\n",
        "room_type = list(airbnb_roomtype_frequency.keys())\n",
        "data = list(airbnb_roomtype_frequency.values())\n",
        "\n",
        "# Creating color parameters\n",
        "\n",
        "colors = ( \"skyblue\", \"red\", \"yellow\",)\n",
        "\n",
        "# Creating explode data\n",
        "\n",
        "explode = (0.03, 0.03, 0.1)\n",
        "\n",
        "# Wedge properties\n",
        "wp = { 'linewidth' : 1, 'edgecolor' : \"pink\" }\n",
        "\n",
        "# Creating autocpt arguments\n",
        "def func(pct, allvalues):\n",
        "    absolute = int(pct / 100.*np.sum(allvalues))\n",
        "    return \"{:.1f}%\\n({:d})\".format(pct, absolute)\n",
        "\n",
        "# Creating Pie Chart\n",
        "\n",
        "# Creating plot\n",
        "fig, airbnb_pie_chart = plt.subplots(figsize =(10, 7))\n",
        "wedges, texts, autotexts = airbnb_pie_chart.pie(data, autopct = lambda pct: func(pct, data),                                              \n",
        "                                                explode = explode,\n",
        "                                                shadow = True,\n",
        "                                                colors = colors,\n",
        "                                                startangle = 0,\n",
        "                                                wedgeprops = wp,\n",
        "                                                textprops = dict(color =\"black\"))\n",
        "\n",
        "# Adding legend\n",
        "airbnb_pie_chart.legend(wedges, room_type,\n",
        "                        title =\"Room Type\",\n",
        "                        loc =\"upper left\",\n",
        "                        bbox_to_anchor =(1, 0, 0.5,1))\n",
        "\n",
        "plt.setp(autotexts, size = 8, weight = \"bold\")\n",
        "airbnb_pie_chart.set_title(\"Most Preferred Rooms\")\n",
        "  \n",
        "\n"
      ],
      "execution_count": 15,
      "outputs": [
        {
          "output_type": "execute_result",
          "data": {
            "text/plain": [
              "Text(0.5, 1.0, 'Most Preferred Rooms')"
            ]
          },
          "metadata": {},
          "execution_count": 15
        },
        {
          "output_type": "display_data",
          "data": {
            "image/png": "[encoded data removed]",
            "text/plain": [
              "<Figure size 720x504 with 1 Axes>"
            ]
          },
          "metadata": {}
        }
      ]
    },
    {
      "cell_type": "markdown",
      "metadata": {
        "id": "NqfFHsdQi7YB"
      },
      "source": [
        "# Finding Top 25 most used words from listing names"
      ]
    },
    {
      "cell_type": "code",
      "metadata": {
        "id": "aD0EBRgsjS0V"
      },
      "source": [
        "#Creting empty list to store name strings\n",
        "airbnb_names=[]\n",
        "\n",
        "#Getting name string from 'name' column and appending it to the empty list\n",
        "for name in airbnb_df.name:\n",
        "    airbnb_names.append(name)\n",
        "\n",
        "#Setting a function to split name strings into seperate words\n",
        "def split_name(name):\n",
        "    ns = str(name).split()\n",
        "    return ns\n",
        "\n",
        "#Creating empty list to store the count of words\n",
        "names_count = []\n",
        "\n",
        "#Getting name string to append it to the names_count list\n",
        "for n in airbnb_names:\n",
        "    for word in split_name(n):\n",
        "        word = word.lower()\n",
        "        names_count.append(word)"
      ],
      "execution_count": 16,
      "outputs": []
    },
    {
      "cell_type": "code",
      "metadata": {
        "id": "fWIl7c8sohqW",
        "colab": {
          "base_uri": "https://localhost:8080/"
        },
        "outputId": "8104f43d-189d-4705-ff0a-deaed8ed75a8"
      },
      "source": [
        "# Importing 'counter' library to count and generate raw data and count top 25 most used words\n",
        "from collections import Counter\n",
        "\n",
        "# Counting most common words\n",
        "count_words = Counter(names_count).most_common()\n",
        "count_words[:25]\n"
      ],
      "execution_count": 34,
      "outputs": [
        {
          "output_type": "execute_result",
          "data": {
            "text/plain": [
              "[('in', 16733),\n",
              " ('room', 9389),\n",
              " ('bedroom', 7231),\n",
              " ('private', 6985),\n",
              " ('apartment', 6113),\n",
              " ('cozy', 4634),\n",
              " ('the', 3869),\n",
              " ('to', 3827),\n",
              " ('studio', 3772),\n",
              " ('brooklyn', 3629),\n",
              " ('apt', 3571),\n",
              " ('spacious', 3387),\n",
              " ('1', 3357),\n",
              " ('with', 3092),\n",
              " ('2', 3079),\n",
              " ('of', 2993),\n",
              " ('east', 2967),\n",
              " ('and', 2869),\n",
              " ('manhattan', 2855),\n",
              " ('&', 2820),\n",
              " ('park', 2632),\n",
              " ('sunny', 2536),\n",
              " ('beautiful', 2320),\n",
              " ('near', 2295),\n",
              " ('williamsburg', 2293)]"
            ]
          },
          "metadata": {},
          "execution_count": 34
        }
      ]
    },
    {
      "cell_type": "code",
      "metadata": {
        "colab": {
          "base_uri": "https://localhost:8080/"
        },
        "id": "TqBt_1RA3Zs4",
        "outputId": "b8a92ff1-253b-4ca9-f465-8c31887fc470"
      },
      "source": [
        "# Cleaning the List by removing prepositions\n",
        "items_to_remove = {('in', 16733), ('the', 3869), ('to', 3827), ('of', 2993), ('-', 2272), ('a', 1909)}\n",
        "top_25_cleaned = [e for e in count_words if e not in items_to_remove]\n",
        "top_25 = top_25_cleaned[:25]\n",
        "top_25"
      ],
      "execution_count": 35,
      "outputs": [
        {
          "output_type": "execute_result",
          "data": {
            "text/plain": [
              "[('room', 9389),\n",
              " ('bedroom', 7231),\n",
              " ('private', 6985),\n",
              " ('apartment', 6113),\n",
              " ('cozy', 4634),\n",
              " ('studio', 3772),\n",
              " ('brooklyn', 3629),\n",
              " ('apt', 3571),\n",
              " ('spacious', 3387),\n",
              " ('1', 3357),\n",
              " ('with', 3092),\n",
              " ('2', 3079),\n",
              " ('east', 2967),\n",
              " ('and', 2869),\n",
              " ('manhattan', 2855),\n",
              " ('&', 2820),\n",
              " ('park', 2632),\n",
              " ('sunny', 2536),\n",
              " ('beautiful', 2320),\n",
              " ('near', 2295),\n",
              " ('williamsburg', 2293),\n",
              " ('village', 2055),\n",
              " ('heart', 2044),\n",
              " ('large', 1882),\n",
              " ('loft', 1822)]"
            ]
          },
          "metadata": {},
          "execution_count": 35
        }
      ]
    },
    {
      "cell_type": "code",
      "metadata": {
        "id": "jNBCC9CnqBYk",
        "colab": {
          "base_uri": "https://localhost:8080/",
          "height": 824
        },
        "outputId": "f4a5c5be-fca5-4ab1-e740-3a5b9775c584"
      },
      "source": [
        "#converting the data into DataFrame\n",
        "word_count_df = pd.DataFrame(top_25)\n",
        "word_count_df.rename(columns={0:'Words',1:'Counts'},inplace=True)\n",
        "word_count_df"
      ],
      "execution_count": 30,
      "outputs": [
        {
          "output_type": "execute_result",
          "data": {
            "text/html": [
              "<div>\n",
              "<style scoped>\n",
              "    .dataframe tbody tr th:only-of-type {\n",
              "        vertical-align: middle;\n",
              "    }\n",
              "\n",
              "    .dataframe tbody tr th {\n",
              "        vertical-align: top;\n",
              "    }\n",
              "\n",
              "    .dataframe thead th {\n",
              "        text-align: right;\n",
              "    }\n",
              "</style>\n",
              "<table border=\"1\" class=\"dataframe\">\n",
              "  <thead>\n",
              "    <tr style=\"text-align: right;\">\n",
              "      <th></th>\n",
              "      <th>Words</th>\n",
              "      <th>Counts</th>\n",
              "    </tr>\n",
              "  </thead>\n",
              "  <tbody>\n",
              "    <tr>\n",
              "      <th>0</th>\n",
              "      <td>room</td>\n",
              "      <td>9389</td>\n",
              "    </tr>\n",
              "    <tr>\n",
              "      <th>1</th>\n",
              "      <td>bedroom</td>\n",
              "      <td>7231</td>\n",
              "    </tr>\n",
              "    <tr>\n",
              "      <th>2</th>\n",
              "      <td>private</td>\n",
              "      <td>6985</td>\n",
              "    </tr>\n",
              "    <tr>\n",
              "      <th>3</th>\n",
              "      <td>apartment</td>\n",
              "      <td>6113</td>\n",
              "    </tr>\n",
              "    <tr>\n",
              "      <th>4</th>\n",
              "      <td>cozy</td>\n",
              "      <td>4634</td>\n",
              "    </tr>\n",
              "    <tr>\n",
              "      <th>5</th>\n",
              "      <td>studio</td>\n",
              "      <td>3772</td>\n",
              "    </tr>\n",
              "    <tr>\n",
              "      <th>6</th>\n",
              "      <td>brooklyn</td>\n",
              "      <td>3629</td>\n",
              "    </tr>\n",
              "    <tr>\n",
              "      <th>7</th>\n",
              "      <td>apt</td>\n",
              "      <td>3571</td>\n",
              "    </tr>\n",
              "    <tr>\n",
              "      <th>8</th>\n",
              "      <td>spacious</td>\n",
              "      <td>3387</td>\n",
              "    </tr>\n",
              "    <tr>\n",
              "      <th>9</th>\n",
              "      <td>1</td>\n",
              "      <td>3357</td>\n",
              "    </tr>\n",
              "    <tr>\n",
              "      <th>10</th>\n",
              "      <td>with</td>\n",
              "      <td>3092</td>\n",
              "    </tr>\n",
              "    <tr>\n",
              "      <th>11</th>\n",
              "      <td>2</td>\n",
              "      <td>3079</td>\n",
              "    </tr>\n",
              "    <tr>\n",
              "      <th>12</th>\n",
              "      <td>east</td>\n",
              "      <td>2967</td>\n",
              "    </tr>\n",
              "    <tr>\n",
              "      <th>13</th>\n",
              "      <td>and</td>\n",
              "      <td>2869</td>\n",
              "    </tr>\n",
              "    <tr>\n",
              "      <th>14</th>\n",
              "      <td>manhattan</td>\n",
              "      <td>2855</td>\n",
              "    </tr>\n",
              "    <tr>\n",
              "      <th>15</th>\n",
              "      <td>&amp;</td>\n",
              "      <td>2820</td>\n",
              "    </tr>\n",
              "    <tr>\n",
              "      <th>16</th>\n",
              "      <td>park</td>\n",
              "      <td>2632</td>\n",
              "    </tr>\n",
              "    <tr>\n",
              "      <th>17</th>\n",
              "      <td>sunny</td>\n",
              "      <td>2536</td>\n",
              "    </tr>\n",
              "    <tr>\n",
              "      <th>18</th>\n",
              "      <td>beautiful</td>\n",
              "      <td>2320</td>\n",
              "    </tr>\n",
              "    <tr>\n",
              "      <th>19</th>\n",
              "      <td>near</td>\n",
              "      <td>2295</td>\n",
              "    </tr>\n",
              "    <tr>\n",
              "      <th>20</th>\n",
              "      <td>williamsburg</td>\n",
              "      <td>2293</td>\n",
              "    </tr>\n",
              "    <tr>\n",
              "      <th>21</th>\n",
              "      <td>village</td>\n",
              "      <td>2055</td>\n",
              "    </tr>\n",
              "    <tr>\n",
              "      <th>22</th>\n",
              "      <td>heart</td>\n",
              "      <td>2044</td>\n",
              "    </tr>\n",
              "    <tr>\n",
              "      <th>23</th>\n",
              "      <td>large</td>\n",
              "      <td>1882</td>\n",
              "    </tr>\n",
              "    <tr>\n",
              "      <th>24</th>\n",
              "      <td>loft</td>\n",
              "      <td>1822</td>\n",
              "    </tr>\n",
              "  </tbody>\n",
              "</table>\n",
              "</div>"
            ],
            "text/plain": [
              "           Words  Counts\n",
              "0           room    9389\n",
              "1        bedroom    7231\n",
              "2        private    6985\n",
              "3      apartment    6113\n",
              "4           cozy    4634\n",
              "5         studio    3772\n",
              "6       brooklyn    3629\n",
              "7            apt    3571\n",
              "8       spacious    3387\n",
              "9              1    3357\n",
              "10          with    3092\n",
              "11             2    3079\n",
              "12          east    2967\n",
              "13           and    2869\n",
              "14     manhattan    2855\n",
              "15             &    2820\n",
              "16          park    2632\n",
              "17         sunny    2536\n",
              "18     beautiful    2320\n",
              "19          near    2295\n",
              "20  williamsburg    2293\n",
              "21       village    2055\n",
              "22         heart    2044\n",
              "23         large    1882\n",
              "24          loft    1822"
            ]
          },
          "metadata": {},
          "execution_count": 30
        }
      ]
    },
    {
      "cell_type": "markdown",
      "metadata": {
        "id": "Z-SITUC4OcxU"
      },
      "source": [
        "### Visualizing the findings"
      ]
    },
    {
      "cell_type": "code",
      "metadata": {
        "colab": {
          "base_uri": "https://localhost:8080/",
          "height": 1000
        },
        "id": "BgfE63dyBhLv",
        "outputId": "6236b86e-24e2-4e9d-ea60-288a0258c792"
      },
      "source": [
        "#Setting the figure size\n",
        "sns.set(rc={'figure.figsize':(15,10)})\n",
        "\n",
        "#Setting background colour of chart as white\n",
        "sns.set_style('white')\n",
        "\n",
        "#Plotting the Chart\n",
        "count_viz = sns.barplot(x='Words',y='Counts', data = word_count_df)\n",
        "\n",
        "# Naming the Chart\n",
        "count_viz.set_title('Top 25 Used Words for Listing Names')\n",
        "\n",
        "\n",
        "# Naming X & Y axis\n",
        "count_viz.set_ylabel('Count of words')\n",
        "count_viz.set_xlabel('Words')\n",
        "\n",
        "#Adjusting Bar labels\n",
        "count_viz.set_xticklabels(count_viz.get_xticklabels(),rotation = 90)"
      ],
      "execution_count": 31,
      "outputs": [
        {
          "output_type": "execute_result",
          "data": {
            "text/plain": [
              "[Text(0, 0, 'room'),\n",
              " Text(0, 0, 'bedroom'),\n",
              " Text(0, 0, 'private'),\n",
              " Text(0, 0, 'apartment'),\n",
              " Text(0, 0, 'cozy'),\n",
              " Text(0, 0, 'studio'),\n",
              " Text(0, 0, 'brooklyn'),\n",
              " Text(0, 0, 'apt'),\n",
              " Text(0, 0, 'spacious'),\n",
              " Text(0, 0, '1'),\n",
              " Text(0, 0, 'with'),\n",
              " Text(0, 0, '2'),\n",
              " Text(0, 0, 'east'),\n",
              " Text(0, 0, 'and'),\n",
              " Text(0, 0, 'manhattan'),\n",
              " Text(0, 0, '&'),\n",
              " Text(0, 0, 'park'),\n",
              " Text(0, 0, 'sunny'),\n",
              " Text(0, 0, 'beautiful'),\n",
              " Text(0, 0, 'near'),\n",
              " Text(0, 0, 'williamsburg'),\n",
              " Text(0, 0, 'village'),\n",
              " Text(0, 0, 'heart'),\n",
              " Text(0, 0, 'large'),\n",
              " Text(0, 0, 'loft')]"
            ]
          },
          "metadata": {},
          "execution_count": 31
        },
        {
          "output_type": "display_data",
          "data": {
            "image/png": "[encoded data removed]",
            "text/plain": [
              "<Figure size 1080x720 with 1 Axes>"
            ]
          },
          "metadata": {}
        }
      ]
    },
    {
      "cell_type": "markdown",
      "metadata": {
        "id": "xq_W_RLp4qKm"
      },
      "source": [
        "## Finding Top 10 Listing Counts"
      ]
    },
    {
      "cell_type": "code",
      "metadata": {
        "colab": {
          "base_uri": "https://localhost:8080/"
        },
        "id": "mQNQ2O9xPeVY",
        "outputId": "aef4ae5c-66ca-4cf8-d595-2bf93eef60f0"
      },
      "source": [
        "top_host_id = airbnb_df['host_id'].value_counts().head(10)\n",
        "top_host_id"
      ],
      "execution_count": 32,
      "outputs": [
        {
          "output_type": "execute_result",
          "data": {
            "text/plain": [
              "219517861    327\n",
              "107434423    232\n",
              "30283594     121\n",
              "137358866    103\n",
              "12243051      96\n",
              "16098958      96\n",
              "61391963      91\n",
              "22541573      87\n",
              "200380610     65\n",
              "7503643       52\n",
              "Name: host_id, dtype: int64"
            ]
          },
          "metadata": {},
          "execution_count": 32
        }
      ]
    },
    {
      "cell_type": "code",
      "metadata": {
        "colab": {
          "base_uri": "https://localhost:8080/",
          "height": 739
        },
        "id": "NT5piUvm5OGf",
        "outputId": "c6877c35-3703-4d25-b97b-a85ae7dfcca2"
      },
      "source": [
        "#Setting the figure size\n",
        "sns.set(rc={'figure.figsize':(10,8)})\n",
        "\n",
        "#Setting background colour of chart as white\n",
        "sns.set_style('white')\n",
        "\n",
        "#Plotting the Chart\n",
        "viz_bar = top_host_id.plot(kind='bar', color='r')\n",
        "\n",
        "#Setting font size for title\n",
        "sns.set(font_scale = 2)\n",
        "\n",
        "# Naming the Chart\n",
        "viz_bar.set_title('Hosts with most listings in New York')\n",
        "\n",
        "# Naming X & Y axis\n",
        "viz_bar.set_xlabel('Host IDs')\n",
        "viz_bar.set_ylabel('Count of listings')\n",
        "\n",
        "#Adjusting Bar labels\n",
        "viz_bar.set_xticklabels(viz_bar.get_xticklabels(), rotation=45)"
      ],
      "execution_count": 49,
      "outputs": [
        {
          "output_type": "execute_result",
          "data": {
            "text/plain": [
              "[Text(0, 0, '219517861'),\n",
              " Text(0, 0, '107434423'),\n",
              " Text(0, 0, '30283594'),\n",
              " Text(0, 0, '137358866'),\n",
              " Text(0, 0, '12243051'),\n",
              " Text(0, 0, '16098958'),\n",
              " Text(0, 0, '61391963'),\n",
              " Text(0, 0, '22541573'),\n",
              " Text(0, 0, '200380610'),\n",
              " Text(0, 0, '7503643')]"
            ]
          },
          "metadata": {},
          "execution_count": 49
        },
        {
          "output_type": "display_data",
          "data": {
            "image/png": "[encoded data removed]",
            "text/plain": [
              "<Figure size 720x576 with 1 Axes>"
            ]
          },
          "metadata": {}
        }
      ]
    },
    {
      "cell_type": "code",
      "metadata": {
        "id": "Dgg5curULqqM"
      },
      "source": [
        ""
      ],
      "execution_count": null,
      "outputs": []
    }
  ]
}